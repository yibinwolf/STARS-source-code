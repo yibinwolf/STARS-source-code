{
 "cells": [
  {
   "cell_type": "markdown",
   "id": "a6e62838",
   "metadata": {},
   "source": [
    "# SDGSAT-1 cloud fill preprocessing code"
   ]
  },
  {
   "cell_type": "code",
   "execution_count": null,
   "id": "817ebf79",
   "metadata": {},
   "outputs": [],
   "source": [
    "import os\n",
    "import arcpy\n",
    "import glob\n",
    "import numpy as np\n",
    "from arcpy.sa import *\n",
    "\n",
    "def RemoveDir(filepath):\n",
    "    filelist = glob.glob(filepath+\"\\\\*.tif\")+ glob.glob(filepath+\"\\\\*.shp\")\n",
    "    for f in filelist:\n",
    "        filepath_t = os.path.join(filepath, f)\n",
    "        if os.path.isfile(filepath_t):\n",
    "            arcpy.Delete_management(filepath_t)\n",
    "    os.rmdir(filepath)\n",
    "\n",
    "def MakeDir(work_path,name):\n",
    "    if not os.path.exists(os.path.join(work_path,name)):\n",
    "        os.makedirs(os.path.join(work_path,name))\n",
    "    temp_path = os.path.join(work_path,name)\n",
    "    return temp_path\n",
    "\n",
    "# --------------------\n",
    "work_path = r\"Path\"\n",
    "Cloud_Name = \"\"\n",
    "Target_date = \"\""
   ]
  },
  {
   "cell_type": "markdown",
   "id": "a8649f8b",
   "metadata": {},
   "source": [
    "# First, noise removal"
   ]
  },
  {
   "cell_type": "markdown",
   "id": "98bef22c",
   "metadata": {},
   "source": [
    "Method from《Efficacy of the SDGSAT-1 glimmer imagery in measuring sustainable development goal indicators 7.1.1, 11.5.2, and target 7.3》\n",
    "\n",
    "The source code is located at Matlab Code -> Denoise which should be run in Matlab."
   ]
  },
  {
   "cell_type": "markdown",
   "id": "bd588e56",
   "metadata": {},
   "source": [
    "# Second, image mosaicing "
   ]
  },
  {
   "cell_type": "code",
   "execution_count": null,
   "id": "9ee61bb1",
   "metadata": {},
   "outputs": [],
   "source": [
    "raw_file_path = os.path.join(work_path,\"R2_Denoise_Selected_NTL\")\n",
    "arcpy.env.workspace = raw_file_path\n",
    "arcpy.env.nodata = \"None\"\n",
    "rasters = arcpy.ListRasters(\"*\", \"tif\")\n",
    "\n",
    "mosaic_path = MakeDir(work_path,\"R3_Mosaic_Selected_NTL\")\n",
    "date_list = []\n",
    "for raster in rasters:\n",
    "    arcpy.management.SetRasterProperties(raw_file_path+ '\\\\'+raster, nodata=\"1 0;2 0;3 0\")\n",
    "    date_list.append(raster[9:17])\n",
    "\n",
    "arr = np.array(date_list)\n",
    "unique, counts = np.unique(arr, return_counts=True)\n",
    "repeated_images = unique[np.where(counts > 1)[0]]\n",
    "\n",
    "if len(repeated_images) >= 1:\n",
    "\n",
    "    print(\"Dates\",repeated_images,\"need to be mosaicked\")\n",
    "\n",
    "    for raster in rasters:\n",
    "        if any(repeated_image in raster for repeated_image in repeated_images):\n",
    "            continue\n",
    "        else:\n",
    "            if os.path.exists(mosaic_path+ '\\\\'+raster[0:-10]+\".tif\"):\n",
    "                continue\n",
    "            else:\n",
    "                arcpy.management.CopyRaster(raster, mosaic_path+ '\\\\'+raster[0:-10]+\".tif\")\n",
    "            \n",
    "    for repeated_image in repeated_images:\n",
    "        temp_mosaic = []\n",
    "        for raster in rasters:\n",
    "            if repeated_image in raster:\n",
    "                temp_mosaic.append(raster)\n",
    "        arcpy.MosaicToNewRaster_management(temp_mosaic,mosaic_path,temp_mosaic[0][0:-10]+\".tif\",\"\",\"16_BIT_UNSIGNED\", \"40\", \"3\", \"MEAN\",\"MATCH\")\n",
    "        print(repeated_image,\"is Done\")\n",
    "else: \n",
    "    for raster in rasters:\n",
    "        arcpy.management.CopyRaster(raster, mosaic_path+ '\\\\'+raster[0:-10]+\".tif\")"
   ]
  },
  {
   "cell_type": "markdown",
   "id": "1c1731ed",
   "metadata": {},
   "source": [
    "# Third, reprojection"
   ]
  },
  {
   "cell_type": "code",
   "execution_count": null,
   "id": "972e2d75",
   "metadata": {},
   "outputs": [],
   "source": [
    "mosaic_path = os.path.join(work_path,\"R3_Mosaic_Selected_NTL\")\n",
    "arcpy.env.workspace = mosaic_path\n",
    "arcpy.env.nodata = \"None\"\n",
    "\n",
    "rasters = arcpy.ListRasters(\"*\", \"tif\")\n",
    "re_file_path = MakeDir(work_path,\"R4_Reproject_Selected_NTL\")\n",
    "\n",
    "proj_list = []\n",
    "for raster in rasters:\n",
    "    currentRaster = Raster(raster)\n",
    "    current_spatial_reference = arcpy.Describe(currentRaster).spatialReference\n",
    "    proj_list.append(current_spatial_reference.name)\n",
    "\n",
    "max_proj = max(proj_list,key=proj_list.count)\n",
    "\n",
    "\n",
    "if len(proj_list) == proj_list.count(max_proj):\n",
    "    for raster in rasters:\n",
    "        arcpy.management.CopyRaster(raster, re_file_path+ '\\\\'+raster)\n",
    "\n",
    "else:\n",
    "    print(\"Projection is not consistent\")\n",
    "    Target_spatial_reference = arcpy.Describe(Raster(rasters[proj_list.index(max_proj)])).spatialReference\n",
    "\n",
    "    for raster in rasters:\n",
    "        currentRaster = Raster(raster)\n",
    "        current_spatial_reference_name = arcpy.Describe(currentRaster).spatialReference.name\n",
    "\n",
    "        if current_spatial_reference_name != max_proj:\n",
    "            arcpy.ProjectRaster_management(currentRaster,\n",
    "                                           re_file_path+ '\\\\'+raster,\n",
    "                                           Target_spatial_reference,\n",
    "                                           \"BILINEAR\",\n",
    "                                           \"40\")\n",
    "        else:\n",
    "            arcpy.management.CopyRaster(raster, re_file_path+ '\\\\'+raster)\n",
    "# --------------------\n",
    "\n",
    "print(\"Done\")"
   ]
  },
  {
   "cell_type": "markdown",
   "id": "8e74ef68",
   "metadata": {},
   "source": [
    "# Fourth, image registration"
   ]
  },
  {
   "cell_type": "code",
   "execution_count": null,
   "id": "bc74cde9",
   "metadata": {},
   "outputs": [],
   "source": [
    "import os\n",
    "import shutil\n",
    "from arosics import COREG_LOCAL\n",
    "\n",
    "work_path = r'Path'\n",
    "Target_date = \"\"\n",
    "\n",
    "if not os.path.exists(os.path.join(work_path,\"R5_Registration_Selected_NTL\")):\n",
    "    os.makedirs(os.path.join(work_path,\"R5_Registration_Selected_NTL\"))\n",
    "ref_path = os.path.join(work_path,\"R5_Registration_Selected_NTL\")\n",
    "\n",
    "re_file_path = os.path.join(work_path,\"R4_Reproject_Selected_NTL\")\n",
    "NTL_images = os.listdir(re_file_path)\n",
    "\n",
    "ref_image = ''\n",
    "tar_images = []\n",
    "\n",
    "for NTL_image in NTL_images:\n",
    "    if Target_date in NTL_image and NTL_image[-3:] == \"tif\":\n",
    "        ref_image = NTL_image\n",
    "    elif NTL_image[-3:] == \"tif\":\n",
    "        tar_images.append(NTL_image)\n",
    "    else:\n",
    "        pass\n",
    "\n",
    "for tar_image in tar_images:\n",
    "\n",
    "    im_reference = ref_image\n",
    "    im_target    = tar_image\n",
    "\n",
    "    kwargs = {\n",
    "        'grid_res'     : 40,\n",
    "        'max_points'   : 100000,\n",
    "        'path_out'     : ref_path+\"\\\\\"+im_target,\n",
    "        'fmt_out'      : 'GTIFF',\n",
    "        'CPUs'         : 12\n",
    "    }\n",
    "\n",
    "    CRL = COREG_LOCAL(re_file_path+\"\\\\\"+im_reference,re_file_path+\"\\\\\"+im_target,**kwargs)\n",
    "    CRL.correct_shifts()\n",
    "\n",
    "shutil.copyfile(re_file_path+\"\\\\\"+im_reference, ref_path+\"\\\\\"+im_reference)"
   ]
  },
  {
   "cell_type": "markdown",
   "id": "b47df46f",
   "metadata": {},
   "source": [
    "# Fifth, maximum common subregion extraction"
   ]
  },
  {
   "cell_type": "code",
   "execution_count": null,
   "id": "159aa183",
   "metadata": {},
   "outputs": [],
   "source": [
    "ref_path = os.path.join(work_path,\"R5_Registration_Selected_NTL\")\n",
    "arcpy.env.workspace = ref_path\n",
    "temp_rasters = arcpy.ListRasters(\"*\", \"tif\")\n",
    "\n",
    "extent_path = MakeDir(work_path,\"R6_Selected_Extent\")\n",
    "\n",
    "for temp_raster in temp_rasters:\n",
    "    key_names = temp_raster.split(\"_\")\n",
    "    temp_raster_band_0 = arcpy.ia.ExtractBand(temp_raster, 1)\n",
    "    extent_raster = RasterCalculator([temp_raster_band_0], [\"x\"],\"SetNull(IsNull(x),1)\", \"FirstOf\", \"FirstOf\")\n",
    "    extent_raster_Int = Int(extent_raster)\n",
    "    arcpy.conversion.RasterToPolygon(extent_raster_Int, extent_path+ '\\\\'+key_names[2]+key_names[5]+ \"_Extent.shp\", \"NO_SIMPLIFY\")\n",
    "\n",
    "\n",
    "arcpy.env.workspace = extent_path\n",
    "list_shapefiles = arcpy.ListFiles(\"*.shp\")\n",
    "arcpy.analysis.Intersect(list_shapefiles,\"Max_Extent.shp\")\n",
    "\n",
    "print(\"Done\")"
   ]
  },
  {
   "cell_type": "markdown",
   "id": "04f35430",
   "metadata": {},
   "source": [
    "# Sixth, data snap and clip"
   ]
  },
  {
   "cell_type": "code",
   "execution_count": null,
   "id": "01ba8c07",
   "metadata": {
    "scrolled": false
   },
   "outputs": [],
   "source": [
    "extent_path = os.path.join(work_path,'R6_Selected_Extent')\n",
    "arcpy.env.workspace = ref_path\n",
    "arcpy.env.nodata = \"None\"\n",
    "temp_rasters = arcpy.ListRasters(\"*\", \"tif\")\n",
    "\n",
    "Snap_Clip_path = MakeDir(work_path,\"R7_Snap_Clip_Selected_NTL\")\n",
    "outExtractByMask = ExtractByMask(temp_rasters[0], extent_path+'\\\\'+\"Max_Extent.shp\", \"INSIDE\")\n",
    "outExtractByMask_0 = RasterCalculator([outExtractByMask], [\"x\"],\"Con(IsNull(x),0,x)\", \"FirstOf\", \"FirstOf\")\n",
    "outExtractByMask_0.save(Snap_Clip_path+'\\\\'+temp_rasters[0])\n",
    "arcpy.management.SetRasterProperties(Snap_Clip_path+'\\\\'+temp_rasters[0], nodata=\"1 0;2 0;3 0\")\n",
    "\n",
    "arcpy.env.extent = Raster(Snap_Clip_path+'\\\\'+temp_rasters[0]).extent\n",
    "arcpy.env.snapRaster = Raster(Snap_Clip_path+'\\\\'+temp_rasters[0])\n",
    "\n",
    "raster_num = 0\n",
    "for temp_raster in temp_rasters:\n",
    "\n",
    "    if raster_num == 0:\n",
    "        raster_num += 1\n",
    "        continue\n",
    "\n",
    "    outExtractByMask = ExtractByMask(temp_raster, extent_path+'\\\\'+\"Max_Extent.shp\", \"INSIDE\")\n",
    "    outExtractByMask_0 = RasterCalculator([outExtractByMask], [\"x\"],\"Con(IsNull(x),0,x)\", \"FirstOf\", \"FirstOf\")\n",
    "    outExtractByMask_0.save(Snap_Clip_path+'\\\\'+temp_raster)\n",
    "    arcpy.management.SetRasterProperties(Snap_Clip_path+'\\\\'+temp_raster, nodata=\"1 0;2 0;3 0\")\n",
    "    raster_num += 1\n",
    "    \n",
    "print(\"Done\")"
   ]
  },
  {
   "cell_type": "markdown",
   "id": "c8f11b83",
   "metadata": {},
   "source": [
    "# Seventh, cloud masking"
   ]
  },
  {
   "cell_type": "code",
   "execution_count": null,
   "id": "b5abb48e",
   "metadata": {},
   "outputs": [],
   "source": [
    "Snap_Clip_path = os.path.join(work_path,\"NTL\")\n",
    "arcpy.env.workspace = Snap_Clip_path\n",
    "arcpy.env.nodata = \"None\"\n",
    "temp_rasters = arcpy.ListRasters(\"*\", \"tif\")\n",
    "arcpy.env.snapRaster = temp_rasters[0]\n",
    "arcpy.env.extent = temp_rasters[0]\n",
    "\n",
    "temp_path = MakeDir(work_path,\"temp\")\n",
    "\n",
    "arcpy.conversion.FeatureToRaster(work_path+'\\\\'+'Cloud'+'\\\\'+Cloud_Name+'.shp',\"FID\",temp_path+'\\\\'+\"temp_cloud.tif\",40)\n",
    "cloud_ras_cal = RasterCalculator([temp_path+'\\\\'+\"temp_cloud.tif\"], [\"x\"],\"Con(x>=0,1,0)\", \"FirstOf\", \"FirstOf\")\n",
    "cloud_ras_cal.save(temp_path+'\\\\'+\"temp_cloud_1.tif\")\n",
    "arcpy.management.SetRasterProperties(temp_path+'\\\\'+\"temp_cloud_1.tif\", nodata=\"1 0\")\n",
    "cloud_ras_cal_1 = RasterCalculator([temp_path+'\\\\'+\"temp_cloud_1.tif\"], [\"x\"],\"Con(x==1,1,0)\", \"FirstOf\", \"FirstOf\")\n",
    "cloud_ras_cal_1.save(work_path+'\\\\'+'Cloud'+'\\\\'+'Cloud.tif')\n",
    "arcpy.Delete_management(temp_path+'\\\\'+\"temp_cloud.tif\")\n",
    "arcpy.Delete_management(temp_path+'\\\\'+\"temp_cloud_1.tif\")\n",
    "\n",
    "Target_name = []\n",
    "for temp_raster in temp_rasters:\n",
    "    \n",
    "    if Target_date in temp_raster:\n",
    "        \n",
    "        Target_name = temp_raster\n",
    "        for band in range(3):\n",
    "            temp_raster_band = arcpy.ia.ExtractBand(temp_raster, band+1)\n",
    "            ExtractByCloud = RasterCalculator([temp_raster_band,work_path+'\\\\'+'Cloud'+'\\\\'+\"Cloud.tif\"], [\"x\",\"y\"],\"Con(y==1,0,Con(IsNull(x),0,x))\", \"FirstOf\", \"FirstOf\")\n",
    "            ExtractByCloud.save(temp_path+'\\\\'+str(band)+\".tif\")\n",
    "            arcpy.management.SetRasterProperties(temp_path+'\\\\'+str(band)+\".tif\", nodata=\"1 0\")\n",
    "\n",
    "\n",
    "arcpy.env.workspace = temp_path\n",
    "arcpy.env.nodata = \"None\"\n",
    "temp_rasters = arcpy.ListRasters(\"*\", \"tif\")\n",
    "REAL_path = MakeDir(work_path,\"REAL\")\n",
    "arcpy.management.CopyRaster(Snap_Clip_path+'\\\\'+Target_name, REAL_path+ '\\\\'+Target_name)\n",
    "arcpy.Delete_management(Snap_Clip_path+'\\\\'+Target_name)\n",
    "arcpy.CompositeBands_management(temp_rasters,Snap_Clip_path+'\\\\'+Target_name)\n",
    "arcpy.management.SetRasterProperties(Snap_Clip_path+'\\\\'+Target_name, nodata=\"1 0;2 0;3 0\")\n",
    "\n",
    "print(\"Done\")\n",
    "RemoveDir(temp_path)"
   ]
  },
  {
   "cell_type": "markdown",
   "id": "dbfa5724",
   "metadata": {},
   "source": [
    "# Eighth, mean synthesis"
   ]
  },
  {
   "cell_type": "code",
   "execution_count": null,
   "id": "b6cf924a",
   "metadata": {},
   "outputs": [],
   "source": [
    "Snap_Clip_path = os.path.join(work_path,\"NTL\")\n",
    "arcpy.env.workspace = Snap_Clip_path\n",
    "arcpy.env.nodata = \"None\"\n",
    "\n",
    "output_folder = MakeDir(work_path,\"Annual\")\n",
    "\n",
    "output_raster_name = \"YearMEAN\"\n",
    "input_rasters = arcpy.ListRasters()\n",
    "arcpy.env.snapRaster = input_rasters[0]\n",
    "\n",
    "raster_list1 = []\n",
    "raster_list2 = []\n",
    "\n",
    "for raster in input_rasters:\n",
    "    raster_path = arcpy.env.workspace + \"/\" + raster\n",
    "    raster_list1.append(raster_path)\n",
    "\n",
    "    raster01 = arcpy.sa.Con(IsNull(raster), 0, 1)\n",
    "    raster_list2.append(raster01)\n",
    "\n",
    "arcpy.env.extent = \"MAXOF\"\n",
    "count_raster = CellStatistics(raster_list2, \"SUM\", \"DATA\", \"MULTI_BAND\")\n",
    "\n",
    "output = arcpy.sa.Con(count_raster > 1, CellStatistics(raster_list1, \"MEAN\", \"DATA\", \"MULTI_BAND\"), )\n",
    "output_0 = RasterCalculator([output], [\"x\"],\"Con(IsNull(x),0,x)\", \"FirstOf\", \"FirstOf\")\n",
    "output_0.save(output_folder + \"/\" + output_raster_name + \".tif\")\n",
    "arcpy.management.SetRasterProperties(output_folder + \"/\" + output_raster_name + \".tif\", nodata=\"1 0;2 0;3 0\")\n",
    "\n",
    "print(\"Done\")"
   ]
  },
  {
   "cell_type": "markdown",
   "id": "395c747d",
   "metadata": {},
   "source": [
    "# Ninth, calculation of SONDI index"
   ]
  },
  {
   "cell_type": "code",
   "execution_count": null,
   "id": "1cfef6ab",
   "metadata": {},
   "outputs": [],
   "source": [
    "arcpy.env.workspace = Snap_Clip_path\n",
    "arcpy.env.nodata = \"None\"\n",
    "temp_rasters = arcpy.ListRasters(\"*\", \"tif\")\n",
    "\n",
    "Input_Spectrum_path = MakeDir(work_path,\"Input_Spectrum\")\n",
    "Target_Spectrum_path = MakeDir(work_path,\"Target_Spectrum\")\n",
    "\n",
    "for temp_raster in temp_rasters:\n",
    "    raster_band_r = arcpy.ia.ExtractBand(temp_raster, 1)\n",
    "    raster_band_g = arcpy.ia.ExtractBand(temp_raster, 2)\n",
    "    raster_band_b = arcpy.ia.ExtractBand(temp_raster, 3)\n",
    "\n",
    "    NDIGR = (raster_band_g - raster_band_r)/(raster_band_g + raster_band_r)\n",
    "    NDIBG = (raster_band_b - raster_band_g)/(raster_band_b + raster_band_g)\n",
    "\n",
    "    SONDI = NDIGR + NDIBG\n",
    "\n",
    "    if Target_date in temp_raster:\n",
    "        output_0 = RasterCalculator([SONDI], [\"x\"],\"Con(IsNull(x),3,x)\", \"FirstOf\", \"FirstOf\")\n",
    "        output_0.save(Target_Spectrum_path+'\\\\'+temp_raster)\n",
    "        arcpy.management.SetRasterProperties(Target_Spectrum_path+'\\\\'+temp_raster, nodata=\"1 3\")\n",
    "    else:\n",
    "        output_0 = RasterCalculator([SONDI], [\"x\"],\"Con(IsNull(x),3,x)\", \"FirstOf\", \"FirstOf\")\n",
    "        output_0.save(Input_Spectrum_path+'\\\\'+temp_raster)\n",
    "        arcpy.management.SetRasterProperties(Input_Spectrum_path+'\\\\'+temp_raster, nodata=\"1 3\")\n",
    "\n",
    "print(\"Done\")\n"
   ]
  },
  {
   "cell_type": "markdown",
   "id": "cc98ca81",
   "metadata": {},
   "source": [
    "# Tenth, copy related files to the specified path"
   ]
  },
  {
   "cell_type": "code",
   "execution_count": null,
   "id": "defeac6e",
   "metadata": {},
   "outputs": [],
   "source": [
    "Snap_Clip_path = os.path.join(work_path,\"NTL\")\n",
    "\n",
    "arcpy.env.workspace = Snap_Clip_path\n",
    "arcpy.env.nodata = \"None\"\n",
    "temp_rasters = arcpy.ListRasters(\"*\", \"tif\")\n",
    "\n",
    "Input_path = MakeDir(work_path,\"Input\")\n",
    "Target_path = MakeDir(work_path,\"Target\")\n",
    "for temp_raster in temp_rasters:\n",
    "    if Target_date in temp_raster:\n",
    "        arcpy.management.CopyRaster(temp_raster,Target_path+ '\\\\'+temp_raster)\n",
    "    else:\n",
    "        arcpy.management.CopyRaster(temp_raster,Input_path+ '\\\\'+temp_raster)\n",
    "        \n",
    "print(\"Done!\")"
   ]
  }
 ],
 "metadata": {
  "kernelspec": {
   "display_name": "Python 3",
   "language": "python",
   "name": "python3"
  },
  "language_info": {
   "codemirror_mode": {
    "name": "ipython",
    "version": 3
   },
   "file_extension": ".py",
   "mimetype": "text/x-python",
   "name": "python",
   "nbconvert_exporter": "python",
   "pygments_lexer": "ipython3",
   "version": "3.9.11"
  }
 },
 "nbformat": 4,
 "nbformat_minor": 5
}
